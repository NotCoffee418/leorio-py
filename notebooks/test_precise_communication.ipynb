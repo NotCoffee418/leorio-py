{
 "cells": [
  {
   "cell_type": "code",
   "execution_count": null,
   "metadata": {},
   "outputs": [],
   "source": [
    "import subprocess\n",
    "import threading\n",
    "import time\n",
    "import sys\n",
    "sys.path.append(\"../src\")\n",
    "\n",
    "import logic.utils.io_access as io\n",
    "\n",
    "engine_path: str = io.get_path('data', 'precise-engine', 'precise-engine')\n",
    "model_path: str = io.get_path('data', 'precise-models', 'hey-mycroft.pb')\n",
    "chunk_size: int = 2048\n",
    "\n",
    "process = subprocess.Popen(\n",
    "    [engine_path, model_path, str(chunk_size)],\n",
    "    stdin=subprocess.PIPE,\n",
    "    stdout=subprocess.PIPE\n",
    ")\n",
    "\n",
    "lock = threading.Lock()\n",
    "stop = False\n",
    "indata = bytes([0] * chunk_size)\n",
    "print(len(indata))\n",
    "while True:\n",
    "    process.stdin.write(indata)\n",
    "    process.stdin.flush()\n",
    "    #process.stdin.close() # <- only responds when inputstream closed\n",
    "    # note that the official library does this exact operation: write, flush, read, no waiting or closing.\n",
    "    # closing stdin does provide a prediction but not sustainable\n",
    "    stdout_data = float(process.stdout.readline())\n",
    "    print(f\"stdout: {stdout_data}\")\n"
   ]
  }
 ],
 "metadata": {
  "kernelspec": {
   "display_name": "Python 3",
   "language": "python",
   "name": "python3"
  },
  "language_info": {
   "codemirror_mode": {
    "name": "ipython",
    "version": 3
   },
   "file_extension": ".py",
   "mimetype": "text/x-python",
   "name": "python",
   "nbconvert_exporter": "python",
   "pygments_lexer": "ipython3",
   "version": "3.9.2"
  }
 },
 "nbformat": 4,
 "nbformat_minor": 2
}
