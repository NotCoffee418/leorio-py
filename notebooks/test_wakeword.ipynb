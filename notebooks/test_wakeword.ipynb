{
 "cells": [
  {
   "cell_type": "code",
   "execution_count": null,
   "metadata": {},
   "outputs": [],
   "source": [
    "import sys\n",
    "sys.path.append(\"../src\")\n",
    "import importlib\n",
    "from IPython.display import Audio\n",
    "import sounddevice as sd\n",
    "import wave\n",
    "import time\n",
    "import numpy as np\n",
    "import matplotlib.pyplot as plt\n",
    "import threading"
   ]
  },
  {
   "cell_type": "code",
   "execution_count": null,
   "metadata": {},
   "outputs": [],
   "source": [
    "import logic.utils.io_access as io\n",
    "import logic.audio_systems.device_helpers as dh\n",
    "import logic.audio_systems.audio_transformers as at\n",
    "from logic.audio_systems.speech_audio_stream_observable import SpeechAudioStreamObservable\n",
    "import logic.audio_systems.wakeword_access as ww"
   ]
  },
  {
   "cell_type": "code",
   "execution_count": null,
   "metadata": {},
   "outputs": [],
   "source": [
    "# force reload imports\n",
    "importlib.reload(dh)\n",
    "importlib.reload(at)\n"
   ]
  },
  {
   "cell_type": "code",
   "execution_count": null,
   "metadata": {},
   "outputs": [],
   "source": [
    "devices = sd.query_devices()\n",
    "target_description = \"seeed-2mic-voicecard\"\n",
    "for i, device in enumerate(devices):\n",
    "    if device['name'].startswith(target_description):\n",
    "        print(device)"
   ]
  },
  {
   "cell_type": "code",
   "execution_count": null,
   "metadata": {},
   "outputs": [],
   "source": [
    "testfile_path = io.get_path('data', 'test_wakeword.wav')\n",
    "device_index = dh.find_seed_device_index()\n",
    "device_index"
   ]
  },
  {
   "cell_type": "code",
   "execution_count": null,
   "metadata": {},
   "outputs": [],
   "source": [
    "importlib.reload(ww)\n",
    "ww.initialize_precise()\n"
   ]
  },
  {
   "cell_type": "code",
   "execution_count": null,
   "metadata": {},
   "outputs": [],
   "source": [
    "print(\"one\")\n",
    "def threaded_start():\n",
    "    ww.start_wakeword_detection(lambda x: print(x), lambda: print(\"active\"))\n",
    "thread = threading.Thread(target=threaded_start)\n",
    "thread.start()\n",
    "\n",
    "print(\"You have 10 seconds to say stuff\")\n",
    "time.sleep(10)\n",
    "print(\"Done\")"
   ]
  },
  {
   "cell_type": "code",
   "execution_count": null,
   "metadata": {},
   "outputs": [],
   "source": [
    "x = SpeechAudioStreamObservable()\n",
    "y = SpeechAudioStreamObservable()\n",
    "z = SpeechAudioStreamObservable()"
   ]
  }
 ],
 "metadata": {
  "kernelspec": {
   "display_name": "Python 3",
   "language": "python",
   "name": "python3"
  },
  "language_info": {
   "codemirror_mode": {
    "name": "ipython",
    "version": 3
   },
   "file_extension": ".py",
   "mimetype": "text/x-python",
   "name": "python",
   "nbconvert_exporter": "python",
   "pygments_lexer": "ipython3",
   "version": "3.9.2"
  }
 },
 "nbformat": 4,
 "nbformat_minor": 2
}
