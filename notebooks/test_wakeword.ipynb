{
 "cells": [
  {
   "cell_type": "code",
   "execution_count": 1,
   "metadata": {},
   "outputs": [],
   "source": [
    "import sys\n",
    "sys.path.append(\"../src\")\n",
    "import importlib\n",
    "from IPython.display import Audio\n",
    "import sounddevice as sd\n",
    "import wave\n",
    "import time\n",
    "from scipy.signal import butter, filtfilt\n",
    "import numpy as np\n",
    "import matplotlib.pyplot as plt\n",
    "import threading"
   ]
  },
  {
   "cell_type": "code",
   "execution_count": 2,
   "metadata": {},
   "outputs": [],
   "source": [
    "import logic.utils.io_access as io\n",
    "import logic.audio_systems.device_helpers as dh\n",
    "import logic.audio_systems.audio_transformers as at\n",
    "from logic.audio_systems.speech_audio_stream_observable import SpeechAudioStreamObservable\n",
    "import logic.audio_systems.wakeword_access as ww"
   ]
  },
  {
   "cell_type": "code",
   "execution_count": 3,
   "metadata": {},
   "outputs": [
    {
     "data": {
      "text/plain": [
       "<module 'logic.audio_systems.audio_transformers' from '../src/logic/audio_systems/audio_transformers.py'>"
      ]
     },
     "execution_count": 3,
     "metadata": {},
     "output_type": "execute_result"
    }
   ],
   "source": [
    "# force reload imports\n",
    "importlib.reload(dh)\n",
    "importlib.reload(at)\n"
   ]
  },
  {
   "cell_type": "code",
   "execution_count": 4,
   "metadata": {},
   "outputs": [
    {
     "data": {
      "text/plain": [
       "2"
      ]
     },
     "execution_count": 4,
     "metadata": {},
     "output_type": "execute_result"
    }
   ],
   "source": [
    "testfile_path = io.get_path('data', 'test_wakeword.wav')\n",
    "device_index = dh.find_seed_device_index()\n",
    "device_index"
   ]
  },
  {
   "cell_type": "code",
   "execution_count": 5,
   "metadata": {},
   "outputs": [
    {
     "name": "stdout",
     "output_type": "stream",
     "text": [
      "Installing precise-engine...\n",
      "Precise Engine installed\n"
     ]
    }
   ],
   "source": [
    "importlib.reload(ww)\n",
    "ww.initialize_precise()\n"
   ]
  },
  {
   "cell_type": "code",
   "execution_count": 6,
   "metadata": {},
   "outputs": [
    {
     "name": "stdout",
     "output_type": "stream",
     "text": [
      "one\n",
      "You have 10 seconds to say stuff\n"
     ]
    },
    {
     "name": "stderr",
     "output_type": "stream",
     "text": [
      "Exception in thread Thread-4:\n",
      "Traceback (most recent call last):\n",
      "  File \"/usr/lib/python3.9/threading.py\", line 954, in _bootstrap_inner\n",
      "Expression 'parameters->channelCount <= maxChans' failed in 'src/hostapi/alsa/pa_linux_alsa.c', line: 1514\n",
      "Expression 'ValidateParameters( inputParameters, hostApi, StreamDirection_In )' failed in 'src/hostapi/alsa/pa_linux_alsa.c', line: 2818\n",
      "    self.run()\n",
      "  File \"/usr/lib/python3.9/threading.py\", line 892, in run\n",
      "    self._target(*self._args, **self._kwargs)\n",
      "  File \"/tmp/ipykernel_15009/2361253283.py\", line 3, in threaded_start\n",
      "  File \"../src/logic/audio_systems/wakeword_access.py\", line 16, in start_wakeword_detection\n",
      "    stream = pms.get_processed_mic_stream()\n",
      "  File \"../src/logic/audio_systems/processed_mic_steam.py\", line 27, in get_processed_mic_stream\n",
      "    inptut_observable = saso.SpeechAudioStreamObservable()\n",
      "  File \"../src/logic/audio_systems/speech_audio_stream_observable.py\", line 16, in __init__\n",
      "    self.stream = sd.InputStream(\n",
      "  File \"/home/leorio/.local/lib/python3.9/site-packages/sounddevice.py\", line 1421, in __init__\n",
      "    _StreamBase.__init__(self, kind='input', wrap_callback='array',\n",
      "  File \"/home/leorio/.local/lib/python3.9/site-packages/sounddevice.py\", line 898, in __init__\n",
      "    _check(_lib.Pa_OpenStream(self._ptr, iparameters, oparameters,\n",
      "  File \"/home/leorio/.local/lib/python3.9/site-packages/sounddevice.py\", line 2747, in _check\n",
      "    raise PortAudioError(errormsg, err)\n",
      "sounddevice.PortAudioError: Error opening InputStream: Invalid number of channels [PaErrorCode -9998]\n"
     ]
    },
    {
     "name": "stdout",
     "output_type": "stream",
     "text": [
      "Done\n"
     ]
    }
   ],
   "source": [
    "print(\"one\")\n",
    "def threaded_start():\n",
    "    ww.start_wakeword_detection(lambda x: print(x), lambda: print(\"active\"))\n",
    "thread = threading.Thread(target=threaded_start)\n",
    "thread.start()\n",
    "\n",
    "print(\"You have 10 seconds to say stuff\")\n",
    "time.sleep(10)\n",
    "print(\"Done\")"
   ]
  }
 ],
 "metadata": {
  "kernelspec": {
   "display_name": "Python 3",
   "language": "python",
   "name": "python3"
  },
  "language_info": {
   "codemirror_mode": {
    "name": "ipython",
    "version": 3
   },
   "file_extension": ".py",
   "mimetype": "text/x-python",
   "name": "python",
   "nbconvert_exporter": "python",
   "pygments_lexer": "ipython3",
   "version": "3.9.2"
  },
  "orig_nbformat": 4
 },
 "nbformat": 4,
 "nbformat_minor": 2
}
